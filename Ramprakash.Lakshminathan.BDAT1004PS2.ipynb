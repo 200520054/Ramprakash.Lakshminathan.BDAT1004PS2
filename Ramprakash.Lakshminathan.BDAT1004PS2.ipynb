{
 "cells": [
  {
   "cell_type": "markdown",
   "id": "8e7979bc",
   "metadata": {},
   "source": [
    "# QUESTION 1"
   ]
  },
  {
   "cell_type": "markdown",
   "id": "3ccfab87",
   "metadata": {},
   "source": [
    "a=0\n",
    "def b():\n",
    "global a\n",
    "a=c(a)\n",
    "def c(a):\n",
    "return a+2\n",
    "\n",
    "print(b())\n",
    "print(b())\n",
    "print(b())\n",
    "print(a)\n"
   ]
  },
  {
   "cell_type": "markdown",
   "id": "c59bedd5",
   "metadata": {},
   "source": [
    "Variable 'a' is declared as a global variable inside function b(), hence its scope and value is accessible across the functions.\n",
    "Initially 0 is assigned to variable 'a'. Inside Function b(), function c is called where along with original 'a' value, it is incremented by 2 for each time it is being invoked.\n",
    "when \"print(b())\" is invoked for the first time, it assigns 2 value to variable a, since there is no return function included in the b() function, it displays as \"None\" in the results.\n",
    "when \"print(b())\" is invoked for the second time, it adds 2 to earlier assigned value (2) to variable a, since there is no return function included in the b() function, it displays as \"None\" in the results.\n",
    "when \"print(b())\" is invoked for the third time, it adds 2  to the earlier assigned value (4) to variable a, since there is no return function included in the b() function, it displays as \"None\" in the results.\n",
    "Variable a value remains as 6 at the end of the third time the \"print(b())\" function is being invoked.\n",
    "Finally when \"print(a)\" is invoked, it prints the 'a' value as 6.\n",
    "\n",
    "Output format:\n",
    "None\n",
    "None\n",
    "None\n",
    "6"
   ]
  },
  {
   "cell_type": "markdown",
   "id": "ef63cf47",
   "metadata": {},
   "source": [
    "# QUESTION 2"
   ]
  },
  {
   "cell_type": "code",
   "execution_count": 39,
   "id": "357d55da",
   "metadata": {},
   "outputs": [
    {
     "name": "stdout",
     "output_type": "stream",
     "text": [
      "123\n",
      "File idterm.py not found\n"
     ]
    }
   ],
   "source": [
    "import os.path\n",
    "\n",
    "def file_length(file_name):\n",
    "    if os.path.isfile (file_name) :\n",
    "            file = open(file_name)\n",
    "            contents = file.read()\n",
    "            file.close()\n",
    "            print(len(contents))\n",
    "            \n",
    "    else:\n",
    "         print(\"File \"+ str(file_name) +\" not found\")\n",
    "    \n",
    "file_length(\"midterm.py\")\n",
    "file_length(\"idterm.py\")"
   ]
  },
  {
   "cell_type": "markdown",
   "id": "e7861e77",
   "metadata": {},
   "source": [
    "# QUESTION 3"
   ]
  },
  {
   "cell_type": "code",
   "execution_count": 3,
   "id": "233e32e2",
   "metadata": {},
   "outputs": [
    {
     "name": "stdout",
     "output_type": "stream",
     "text": [
      "I am a Kangaroo located at coordinates (0,0)\n",
      "['doll', 'firetruck', 'kitten']\n",
      "I am a Kangaroo located at coordinates (3,0)\n"
     ]
    }
   ],
   "source": [
    "class Marsupial:\n",
    "    def __init__(self):\n",
    "        self.arr=[]\n",
    "    def put_in_pouch(self,x):\n",
    "        self.arr.append(x)\n",
    "    def pouch_contents(self):\n",
    "        print(self.arr)\n",
    "\n",
    "\n",
    "class Kangaroo(Marsupial):\n",
    "    def __init__(self,x_coords,y_coords):\n",
    "        super().__init__()\n",
    "        self.x=x_coords\n",
    "        self.y=y_coords\n",
    "    def jump(self,dx,dy):\n",
    "        self.x+=dx\n",
    "        self.y+=dy\n",
    "    def __str__(self):\n",
    "        return \"I am a Kangaroo located at coordinates ({0},{1})\".format(self.x,self.y)\n",
    "    \n",
    "k=Kangaroo(0,0)\n",
    "print(k)\n",
    "k.put_in_pouch('doll')\n",
    "k.put_in_pouch('firetruck')\n",
    "k.put_in_pouch('kitten')\n",
    "k.pouch_contents()\n",
    "k.jump(1,0)\n",
    "k.jump(1,0)\n",
    "k.jump(1,0)\n",
    "print(k)\n"
   ]
  },
  {
   "cell_type": "markdown",
   "id": "955ea624",
   "metadata": {},
   "source": [
    "# QUESTION 4"
   ]
  },
  {
   "cell_type": "code",
   "execution_count": 12,
   "id": "2cdf10ac",
   "metadata": {},
   "outputs": [
    {
     "name": "stdout",
     "output_type": "stream",
     "text": [
      "1\n",
      "10\n",
      "5\n",
      "16\n",
      "8\n",
      "4\n",
      "2\n",
      "1\n"
     ]
    },
    {
     "data": {
      "text/plain": [
       "1"
      ]
     },
     "execution_count": 12,
     "metadata": {},
     "output_type": "execute_result"
    }
   ],
   "source": [
    "def collatz(x):\n",
    "    print(round(x))\n",
    "    if(x==1):\n",
    "        return 1 \n",
    "    elif(x%2==0):\n",
    "        return collatz(x/2)\n",
    "    elif(x%2!=0):\n",
    "        return  collatz(3*x+1)\n",
    "\n",
    "collatz(1)\n",
    "collatz(10)"
   ]
  },
  {
   "cell_type": "markdown",
   "id": "7918fb3d",
   "metadata": {},
   "source": [
    "# QUESTION 5"
   ]
  },
  {
   "cell_type": "code",
   "execution_count": 5,
   "id": "0dcea1e4",
   "metadata": {},
   "outputs": [
    {
     "name": "stdout",
     "output_type": "stream",
     "text": [
      "0\n",
      "1\n",
      "11\n",
      "1001\n"
     ]
    }
   ],
   "source": [
    "def binary(n):\n",
    "    if n < 2:\n",
    "        print (n)\n",
    "    else:\n",
    "        x = '{0:b}'.format(n)\n",
    "        print (x)\n",
    "        \n",
    "binary(0)\n",
    "binary(1)\n",
    "binary(3)\n",
    "binary(9)"
   ]
  },
  {
   "cell_type": "markdown",
   "id": "a22fd611",
   "metadata": {},
   "source": [
    "# QUESTION 6"
   ]
  },
  {
   "cell_type": "code",
   "execution_count": 38,
   "id": "c5dd1291",
   "metadata": {},
   "outputs": [
    {
     "name": "stdout",
     "output_type": "stream",
     "text": [
      "W3C Mission\n",
      " Principles\n"
     ]
    }
   ],
   "source": [
    "from html.parser import HTMLParser\n",
    "\n",
    "test_param = False\n",
    "count = 0\n",
    "\n",
    "def space_generator(count):\n",
    "    space_str =\"\"\n",
    "    for i in range(0,count):\n",
    "        space_str += \" \"\n",
    "    return space_str\n",
    "\n",
    "class HeadingParser(HTMLParser):\n",
    "    def handle_starttag(self,tag,data):\n",
    "        global test_param\n",
    "        if tag in ['h1','h2']:\n",
    "            test_param = True            \n",
    "    def handle_data(self,data):\n",
    "        global test_param\n",
    "        global count\n",
    "        if test_param == True:\n",
    "            test_param = False\n",
    "            modified_data = space_generator(count) + data\n",
    "            print(modified_data)\n",
    "            count += 1\n",
    "            \n",
    "infile = open('heading.html')\n",
    "content = infile.read()\n",
    "infile.close()\n",
    "hp = HeadingParser()\n",
    "hp.feed(content)"
   ]
  },
  {
   "cell_type": "markdown",
   "id": "e766599f",
   "metadata": {},
   "source": [
    "# QUESTION 7"
   ]
  },
  {
   "cell_type": "code",
   "execution_count": 63,
   "id": "800af82c",
   "metadata": {},
   "outputs": [
    {
     "ename": "TypeError",
     "evalue": "__init__() takes 1 positional argument but 2 were given",
     "output_type": "error",
     "traceback": [
      "\u001b[1;31m---------------------------------------------------------------------------\u001b[0m",
      "\u001b[1;31mTypeError\u001b[0m                                 Traceback (most recent call last)",
      "Input \u001b[1;32mIn [63]\u001b[0m, in \u001b[0;36m<cell line: 40>\u001b[1;34m()\u001b[0m\n\u001b[0;32m     38\u001b[0m resource \u001b[38;5;241m=\u001b[39m urlopen(url)\n\u001b[0;32m     39\u001b[0m content \u001b[38;5;241m=\u001b[39m resource\u001b[38;5;241m.\u001b[39mread()\u001b[38;5;241m.\u001b[39mdecode()\n\u001b[1;32m---> 40\u001b[0m collector \u001b[38;5;241m=\u001b[39m \u001b[43mCollector\u001b[49m\u001b[43m(\u001b[49m\u001b[43murl\u001b[49m\u001b[43m)\u001b[49m\n\u001b[0;32m     41\u001b[0m collector\u001b[38;5;241m.\u001b[39mfeed(content)\n\u001b[0;32m     42\u001b[0m allLinks \u001b[38;5;241m=\u001b[39m collector\u001b[38;5;241m.\u001b[39mgetLinks()\n",
      "\u001b[1;31mTypeError\u001b[0m: __init__() takes 1 positional argument but 2 were given"
     ]
    }
   ],
   "source": [
    "from urllib.request import urlopen\n",
    "from urllib.parse import urljoin\n",
    "from html.parser import HTMLParser\n",
    "\n",
    "class Collector(HTMLParser):\n",
    "\n",
    "  def _init_(self, url):\n",
    "      #initializes parser, the url, and a list\n",
    "      HTMLParser._init_(self)\n",
    "      self.url = url\n",
    "      self.links = []\n",
    "\n",
    "\n",
    "  def handle_starttag(self, tag, attrs):\n",
    "      if tag == 'a':\n",
    "          for attr in attrs:          \n",
    "              if attr[0] == 'href': \n",
    "                  absolute = urljoin(self.url, attr[1])\n",
    "                  if absolute[:4] == 'http':\n",
    "                      self.links.append(absolute)\n",
    "\n",
    "  def getLinks(self):\n",
    "    return self.links\n",
    "\n",
    "\n",
    "allLinks = []\n",
    "    \n",
    "def webdir(url,depth,indent):\n",
    "        global allLinks   \n",
    "        print(indent*\" \" + url)\n",
    "        if depth == 0:\n",
    "            return \n",
    "        for i in allLinks: \n",
    "            webdir(i, depth-1, indent+1)    \n",
    "\n",
    "\n",
    "url = ' http://reed.cs.depaul.edu/lperkovic/test1.html'\n",
    "resource = urlopen(url)\n",
    "content = resource.read().decode()\n",
    "collector = Collector(url)\n",
    "collector.feed(content)\n",
    "allLinks = collector.getLinks()\n",
    "\n",
    "#Calling Webdir Function here\n",
    "webdir(url,2,0)"
   ]
  },
  {
   "cell_type": "markdown",
   "id": "a0837235",
   "metadata": {},
   "source": [
    "# QUESTION 8"
   ]
  },
  {
   "cell_type": "code",
   "execution_count": null,
   "id": "dd4926d3",
   "metadata": {},
   "outputs": [],
   "source": [
    "1. \n",
    "SELECT temperature from table_name\n",
    "2. \n",
    "Select distinct city from table_name\n",
    "3.\n",
    "select * from table_name where country='India'\n",
    "4.\n",
    "select rainfall from table_name\n",
    "5.\n",
    "Select city,country, season from table_name where rainfall between 200 and 400\n",
    "6.\n",
    "Select city, country from table_name where temperature > 20 order by temperature\n",
    "7.\n",
    "select sum(rainfall) from table_name where city='Cairo'\n",
    "8.\n",
    "select season,sum(rainfall) from table_name group by season"
   ]
  },
  {
   "cell_type": "markdown",
   "id": "50a8e3ec",
   "metadata": {},
   "source": [
    "# QUESTION 9.A"
   ]
  },
  {
   "cell_type": "code",
   "execution_count": 6,
   "id": "26409f84",
   "metadata": {},
   "outputs": [
    {
     "name": "stdout",
     "output_type": "stream",
     "text": [
      "['THE', 'QUICK', 'BROWN', 'FOX', 'JUMPS', 'OVER', 'THE', 'LAZY', 'DOG']\n"
     ]
    }
   ],
   "source": [
    "words = [\"the\", \"quick\", \"brown\", \"fox\", \"jumps\", \"over\", \"the\", \"lazy\", \"dog\"]\n",
    "\n",
    "words = [string.upper() for string in words]\n",
    "\n",
    "print(words)"
   ]
  },
  {
   "cell_type": "markdown",
   "id": "24e24380",
   "metadata": {},
   "source": [
    "# QUESTION 9.B"
   ]
  },
  {
   "cell_type": "code",
   "execution_count": 7,
   "id": "6848410e",
   "metadata": {},
   "outputs": [
    {
     "name": "stdout",
     "output_type": "stream",
     "text": [
      "['the', 'quick', 'brown', 'fox', 'jumps', 'over', 'the', 'lazy', 'dog']\n"
     ]
    }
   ],
   "source": [
    "words = [\"THE\", \"QUICK\", \"BROWN\", \"FOX\", \"JUMPS\", \"OVER\", \"THE\", \"LAZY\", \"DOG\"]\n",
    "\n",
    "words = [string.lower() for string in words]\n",
    "\n",
    "print(words)"
   ]
  },
  {
   "cell_type": "markdown",
   "id": "854507a3",
   "metadata": {},
   "source": [
    "# QUESTION 9.C"
   ]
  },
  {
   "cell_type": "code",
   "execution_count": 8,
   "id": "c1a7a8bf",
   "metadata": {},
   "outputs": [
    {
     "name": "stdout",
     "output_type": "stream",
     "text": [
      "The length of the words in list 9\n"
     ]
    }
   ],
   "source": [
    "numbers =[ 3,5,5,3,5,4,3,4,3]\n",
    "print(\"The length of the words in list\", len(numbers))"
   ]
  },
  {
   "cell_type": "markdown",
   "id": "7b5fdd5c",
   "metadata": {},
   "source": [
    "# QUESTION 9.D"
   ]
  },
  {
   "cell_type": "code",
   "execution_count": 10,
   "id": "4a0dd76e",
   "metadata": {},
   "outputs": [
    {
     "name": "stdout",
     "output_type": "stream",
     "text": [
      "[['THE', 'the', 3], ['QUICK', 'quick', 5], ['BROWN', 'brown', 5], ['FOX', 'fox', 3], ['JUMPS', 'jumps', 5], ['OVER', 'over', 4], ['THE', 'the', 3], ['LAZY', 'lazy', 4], ['DOG', 'dog', 3]]\n"
     ]
    }
   ],
   "source": [
    "words = ['The','quick','brown','fox', 'jumps','over','the','lazy','dog']\n",
    "arr=[]\n",
    "for i in words:\n",
    "    array=[]\n",
    "    array.append(i.upper())\n",
    "    array.append(i.lower())\n",
    "    array.append(len(i))\n",
    "    arr.append(array)\n",
    "print(arr)"
   ]
  },
  {
   "cell_type": "markdown",
   "id": "d0ed91c6",
   "metadata": {},
   "source": [
    "# QUESTION 9.E "
   ]
  },
  {
   "cell_type": "code",
   "execution_count": 9,
   "id": "e394ea21",
   "metadata": {},
   "outputs": [
    {
     "name": "stdout",
     "output_type": "stream",
     "text": [
      "['quick', 'brown', 'jumps', 'over', 'lazy']\n"
     ]
    }
   ],
   "source": [
    "words = [\"The\", \"quick\", \"brown\",\"fox\",\"jumps\",\"over\",\"the\",\"lazy\",\"dog\"]\n",
    "words5 = [word for word in words if len(word) >=4]\n",
    "print(words5)"
   ]
  },
  {
   "cell_type": "code",
   "execution_count": null,
   "id": "fb75806d",
   "metadata": {},
   "outputs": [],
   "source": []
  }
 ],
 "metadata": {
  "kernelspec": {
   "display_name": "Python 3 (ipykernel)",
   "language": "python",
   "name": "python3"
  },
  "language_info": {
   "codemirror_mode": {
    "name": "ipython",
    "version": 3
   },
   "file_extension": ".py",
   "mimetype": "text/x-python",
   "name": "python",
   "nbconvert_exporter": "python",
   "pygments_lexer": "ipython3",
   "version": "3.9.12"
  }
 },
 "nbformat": 4,
 "nbformat_minor": 5
}
